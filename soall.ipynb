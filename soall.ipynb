{
 "cells": [
  {
   "cell_type": "markdown",
   "metadata": {},
   "source": [
    "Buatlah sebuah program yang dapat mendeteksi apakah suatu kata adalah anagram\n",
    "dari kata lainnya atau bukan! Anagram adalah kata yang dibolak-balik susunan hurufnya sama.\n",
    "Misal: mata anagram dengan atma, maat, taam, tama, dsb. "
   ]
  },
  {
   "cell_type": "code",
   "execution_count": 23,
   "metadata": {},
   "outputs": [
    {
     "name": "stdout",
     "output_type": "stream",
     "text": [
      "maju dan mundur bukan anagram.\n"
     ]
    }
   ],
   "source": [
    "import collections\n",
    "\n",
    "def is_anagram(kata1, kata2):\n",
    "    return collections.Counter(kata1.replace(\" \", \"\").lower()) == collections.Counter(kata2.replace(\" \", \"\").lower())\n",
    "\n",
    "kata1 = input('Masukan kataa 1: ')\n",
    "kata2 = input('Masukan kataa 2: ')\n",
    "if is_anagram(kata1, kata2):\n",
    "    print(f\"{kata1} dan {kata2} adalah anagram.\")\n",
    "else:\n",
    "    print(f\"{kata1} dan {kata2} bukan anagram.\")\n"
   ]
  },
  {
   "cell_type": "markdown",
   "metadata": {},
   "source": [
    "2 Buatlah suatu program yang dapat menghitung frekuensi kemunculan suatu kata\n",
    "yang ada pada String. Misal terdapat kalimat \"Saya mau makan. Makan itu wajib. Mau siang\n",
    "atau malam saya wajib makan\". Ditanyakan kata \"makan\". Output: makan ada 3 buah "
   ]
  },
  {
   "cell_type": "code",
   "execution_count": 24,
   "metadata": {},
   "outputs": [
    {
     "name": "stdout",
     "output_type": "stream",
     "text": [
      "makan ada 3 buah.\n"
     ]
    }
   ],
   "source": [
    "def hitung_frekuensi_kata(kalimat, kata):\n",
    "    kalimat = kalimat.lower()\n",
    "    kata = kata.lower()\n",
    "    \n",
    "    frekuensi = kalimat.count(kata)\n",
    "    \n",
    "    return frekuensi\n",
    "\n",
    "kalimat = \"Saya mau makan. Makan itu wajib. Mau siang atau malam saya wajib makan\"\n",
    "kata = \"makan\"\n",
    "\n",
    "frekuensi = hitung_frekuensi_kata(kalimat, kata)\n",
    "print(f\"{kata} ada {frekuensi} buah.\")\n"
   ]
  },
  {
   "cell_type": "markdown",
   "metadata": {},
   "source": [
    "Buatlah suatu program yang dapat menghapus semua spasi yang berlebih pada\n",
    "sebuah string, dan menjadikannya satu spasi normal! Misal: \"saya tidak suka memancing ikan \"\n",
    "Output: \"saya tidak suka memancing ikan\" "
   ]
  },
  {
   "cell_type": "code",
   "execution_count": 25,
   "metadata": {},
   "outputs": [
    {
     "name": "stdout",
     "output_type": "stream",
     "text": [
      "Kalimat normal: saya tidak suka memancing ikan\n"
     ]
    }
   ],
   "source": [
    "def hapus_spasi_berlebih(string):\n",
    "    return ' '.join(string.split())\n",
    "\n",
    "kalimat = \"saya tidak suka memancing ikan \"\n",
    "kalimat_normal = hapus_spasi_berlebih(kalimat)\n",
    "\n",
    "print(\"Kalimat normal:\", kalimat_normal)\n"
   ]
  },
  {
   "cell_type": "markdown",
   "metadata": {},
   "source": [
    "Buatlah suatu program mengetahui kata terpendek dan terpanjang dari suatu\n",
    "kalimat yang diinputkan! Misal: \"red snakes and a black frog in the pool\" Output: terpendek: a,\n",
    "terpanjang: snakes"
   ]
  },
  {
   "cell_type": "code",
   "execution_count": 26,
   "metadata": {},
   "outputs": [
    {
     "name": "stdout",
     "output_type": "stream",
     "text": [
      "Kata terpendek: halo\n",
      "Kata terpanjang: ganteng\n"
     ]
    }
   ],
   "source": [
    "kalimat = input(\"Masukkan sebuah kalimat: \")\n",
    "kata_terpendek = min(kalimat.split(), key=len)\n",
    "kata_terpanjang = max(kalimat.split(), key=len)\n",
    "print(\"Kata terpendek:\", kata_terpendek)\n",
    "print(\"Kata terpanjang:\", kata_terpanjang)\n"
   ]
  }
 ],
 "metadata": {
  "kernelspec": {
   "display_name": "Python 3",
   "language": "python",
   "name": "python3"
  },
  "language_info": {
   "codemirror_mode": {
    "name": "ipython",
    "version": 3
   },
   "file_extension": ".py",
   "mimetype": "text/x-python",
   "name": "python",
   "nbconvert_exporter": "python",
   "pygments_lexer": "ipython3",
   "version": "3.12.0"
  }
 },
 "nbformat": 4,
 "nbformat_minor": 2
}
